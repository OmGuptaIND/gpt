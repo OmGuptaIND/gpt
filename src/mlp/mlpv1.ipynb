{
 "cells": [
  {
   "cell_type": "code",
   "execution_count": 28,
   "metadata": {},
   "outputs": [],
   "source": [
    "import torch\n",
    "import random\n",
    "from torch._tensor import Tensor\n",
    "import torch.nn.functional as F\n",
    "import matplotlib.pyplot as plt\n",
    "%matplotlib inline"
   ]
  },
  {
   "cell_type": "code",
   "execution_count": 93,
   "metadata": {},
   "outputs": [],
   "source": [
    "g = torch.Generator().manual_seed(2147483647)\n",
    "\n",
    "random.seed(2147483647)"
   ]
  },
  {
   "cell_type": "code",
   "execution_count": 94,
   "metadata": {},
   "outputs": [],
   "source": [
    "words = open('../../assets/names.txt', 'r').read().splitlines()"
   ]
  },
  {
   "cell_type": "code",
   "execution_count": 95,
   "metadata": {},
   "outputs": [],
   "source": [
    "chars = sorted(list(set(''.join(words))))\n",
    "stoi = {char: i + 1 for i, char in enumerate(chars)}\n",
    "stoi['.'] = 0\n",
    "itos = {i: char for char, i in stoi.items()}"
   ]
  },
  {
   "cell_type": "code",
   "execution_count": 96,
   "metadata": {},
   "outputs": [],
   "source": [
    "\n",
    "block_size = 3\n",
    "\n",
    "def build_dataset(words: list[str] ) -> tuple[Tensor, Tensor]:\n",
    "\n",
    "    Inputs, Outputs = [], []\n",
    "\n",
    "    for w in words:\n",
    "        context = [0] * block_size\n",
    "\n",
    "        for ch in w + '.':\n",
    "            ix = stoi[ch]\n",
    "            Inputs.append(context)\n",
    "            Outputs.append(ix)\n",
    "\n",
    "            context = context[1:] + [ix]\n",
    "\n",
    "    X = torch.tensor(Inputs)\n",
    "    Y = torch.tensor(Outputs)\n",
    "\n",
    "    return X, Y\n",
    "\n",
    "random.shuffle(words)\n",
    "\n",
    "training_split = int(len(words) * 0.8)\n",
    "test_split = int(len(words) * 0.9)\n",
    "\n",
    "Xtr, Ytr = build_dataset(words)\n",
    "Xdev, Ydev = build_dataset(words[training_split:test_split])\n",
    "Xte, Yte = build_dataset(words[test_split:])\n"
   ]
  },
  {
   "cell_type": "code",
   "execution_count": 97,
   "metadata": {},
   "outputs": [
    {
     "data": {
      "text/plain": [
       "10281"
      ]
     },
     "execution_count": 97,
     "metadata": {},
     "output_type": "execute_result"
    }
   ],
   "source": [
    "C= torch.randn(27, 2, generator=g, requires_grad=True)\n",
    "# Tanh activation Values\n",
    "W1 = torch.randn(6, 300, generator=g, requires_grad=True)\n",
    "B1 = torch.randn(300, generator=g, requires_grad=True)\n",
    "\n",
    "# Softmax activation Values\n",
    "W2 = torch.randn(300, 27, generator=g, requires_grad=True)\n",
    "B2 = torch.randn(27, generator=g, requires_grad=True)\n",
    "\n",
    "prameters = [C, W1, B1, W2, B2]\n",
    "\n",
    "sum(p.nelement() for p in prameters)"
   ]
  },
  {
   "cell_type": "code",
   "execution_count": 98,
   "metadata": {},
   "outputs": [],
   "source": [
    "stepi = []\n",
    "lossi = []"
   ]
  },
  {
   "cell_type": "code",
   "execution_count": 134,
   "metadata": {},
   "outputs": [
    {
     "name": "stdout",
     "output_type": "stream",
     "text": [
      "2.102180242538452\n"
     ]
    }
   ],
   "source": [
    "def train_model(X, Y: Tensor) -> float:\n",
    "    final_loss = 0\n",
    "    for i in range(20000):\n",
    "        #forward pass\n",
    "        ix = torch.randint(0, X.shape[0], (32, ))\n",
    "        emb = C[X[ix]]\n",
    "        h = torch.tanh(emb.view(-1, block_size * 2) @ W1 + B1)\n",
    "\n",
    "        logits = h @ W2 + B2\n",
    "        loss = F.cross_entropy(logits, Y[ix])\n",
    "\n",
    "        for p in prameters:\n",
    "            p.grad = None\n",
    "\n",
    "        loss.backward()\n",
    "\n",
    "        for p in prameters:\n",
    "            if p.grad is not None:\n",
    "                p.data += -0.001 * p.grad\n",
    "\n",
    "        final_loss = loss.item()\n",
    "\n",
    "        # Track Step and Loss\n",
    "        stepi.append(i)\n",
    "        lossi.append(final_loss)\n",
    "\n",
    "    return final_loss\n",
    "\n",
    "loss = train_model(X=Xtr, Y=Ytr)\n",
    "\n",
    "print(f\"{loss}\")\n"
   ]
  },
  {
   "cell_type": "code",
   "execution_count": 135,
   "metadata": {},
   "outputs": [
    {
     "name": "stdout",
     "output_type": "stream",
     "text": [
      "2.3361120223999023\n"
     ]
    }
   ],
   "source": [
    "def evaluate_model(X, Y: Tensor) -> float:\n",
    "    emb = C[X]\n",
    "    h = torch.tanh(emb.view(-1, block_size * 2) @ W1 + B1)\n",
    "\n",
    "    logits = h @ W2 + B2\n",
    "    loss = F.cross_entropy(logits, Y)\n",
    "\n",
    "    return loss.item()\n",
    "    \n",
    "train_loss = evaluate_model(Xdev, Ydev)\n",
    "\n",
    "print(f\"{train_loss}\")\n"
   ]
  },
  {
   "cell_type": "code",
   "execution_count": 127,
   "metadata": {},
   "outputs": [
    {
     "name": "stdout",
     "output_type": "stream",
     "text": [
      "2.3300058841705322\n"
     ]
    }
   ],
   "source": [
    "train_loss = evaluate_model(Xte, Yte)\n",
    "\n",
    "print(f\"{train_loss}\")"
   ]
  },
  {
   "cell_type": "code",
   "execution_count": 136,
   "metadata": {},
   "outputs": [
    {
     "data": {
      "image/png": "[encoded data removed]",
      "text/plain": [
       "<Figure size 1000x1000 with 1 Axes>"
      ]
     },
     "metadata": {},
     "output_type": "display_data"
    }
   ],
   "source": [
    "def visualise_emb():\n",
    "    plt.figure(figsize=(10, 10))\n",
    "    plt.scatter(C[:, 0].data, C[:, 1].data, s=200)\n",
    "    for i in range(C.shape[0]):\n",
    "        plt.text(C[i, 0].item(), C[i, 1].item(), itos[i], ha='center', va='center', fontsize=12, color='black')\n",
    "    plt.grid(which='minor')\n",
    "\n",
    "visualise_emb()"
   ]
  }
 ],
 "metadata": {
  "kernelspec": {
   "display_name": ".venv",
   "language": "python",
   "name": "python3"
  },
  "language_info": {
   "codemirror_mode": {
    "name": "ipython",
    "version": 3
   },
   "file_extension": ".py",
   "mimetype": "text/x-python",
   "name": "python",
   "nbconvert_exporter": "python",
   "pygments_lexer": "ipython3",
   "version": "3.12.7"
  }
 },
 "nbformat": 4,
 "nbformat_minor": 2
}
